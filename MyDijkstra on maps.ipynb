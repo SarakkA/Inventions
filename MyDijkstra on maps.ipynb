{
 "cells": [
  {
   "cell_type": "code",
   "execution_count": 1,
   "metadata": {},
   "outputs": [],
   "source": [
    "import osmnx as ox\n",
    "import matplotlib.pyplot as plt\n",
    "%matplotlib inline"
   ]
  },
  {
   "cell_type": "code",
   "execution_count": 8,
   "metadata": {},
   "outputs": [],
   "source": [
    "#funzione che rende un pelo più leggibile il codice\n",
    "def indice(tail, nodo):\n",
    "    r = tail.index(nodo)\n",
    "    return r\n",
    "\n",
    "\n",
    "#funzione che restituisce il nodo  di distanza minima (dall'array F dei nodi non visitati)\n",
    "def nodo_con_costo_minore(dict, F):\n",
    "    costo_minimo = 9999999999999\n",
    "    nodo_con_costo_minimo = None\n",
    "    \n",
    "    for i in dict:\n",
    "        if dict[i] < costo_minimo and i in F:\n",
    "            costo_minimo = dict[i]\n",
    "            nodo_con_costo_minimo = i\n",
    "    return nodo_con_costo_minimo"
   ]
  },
  {
   "cell_type": "code",
   "execution_count": 4,
   "metadata": {},
   "outputs": [
    {
     "data": {
      "image/png": "[encoded data removed]",
      "text/plain": [
       "<Figure size 437.129x432 with 1 Axes>"
      ]
     },
     "metadata": {},
     "output_type": "display_data"
    }
   ],
   "source": [
    "location_point = (40.6802614, -73.9397006)\n",
    "G = ox.graph_from_point(location_point, distance=250, distance_type='bbox', network_type='drive')\n",
    "fig, ax = ox.plot_graph(G, node_size=30, node_color='#66cc66')"
   ]
  },
  {
   "cell_type": "code",
   "execution_count": 5,
   "metadata": {},
   "outputs": [],
   "source": [
    "nodes, edges = ox.graph_to_gdfs(G)"
   ]
  },
  {
   "cell_type": "code",
   "execution_count": 26,
   "metadata": {},
   "outputs": [
    {
     "name": "stdout",
     "output_type": "stream",
     "text": [
      "{42464995: [0, 3], 42464999: [3, 4], 42465002: [7, 1], 42467425: [8, 2], 42467431: [10, 2], 42475388: [12, 1], 42475392: [0, 0], 42497847: [13, 2], 42498485: [15, 1], 42499211: [16, 1], 42499213: [17, 1], 42499215: [18, 2], 42502360: [20, 1], 42502371: [21, 2], 42516282: [23, 1], 597826226: [0, 0], 4224536022: [24, 1]}\n",
      "\n",
      "{42464995: 999999, 42464999: 999999, 42465002: 999999, 42467425: 999999, 42467431: 999999, 42475388: 999999, 42475392: 999999, 42497847: 999999, 42498485: 999999, 42499211: 999999, 42499213: 999999, 42499215: 999999, 42502360: 999999, 42502371: 999999, 42516282: 999999, 597826226: 999999, 4224536022: 999999}\n",
      "\n",
      "{42464995: None, 42464999: None, 42465002: None, 42467425: None, 42467431: None, 42475388: None, 42475392: None, 42497847: None, 42498485: None, 42499211: None, 42499213: None, 42499215: None, 42502360: None, 42502371: None, 42516282: None, 597826226: None, 4224536022: None}\n"
     ]
    }
   ],
   "source": [
    "#inizializzo ciò che mi serve ed estraggo dai dataframe i soli dati che mi interessano e li metto in liste\n",
    "lista_nodi = nodes['osmid'].tolist()\n",
    "tail = edges['u'].tolist()\n",
    "head = edges['v'].tolist()\n",
    "cost = edges['length'].tolist()\n",
    "\n",
    "# V = lista dei nodi visitati\n",
    "V = []\n",
    "\n",
    "# F = lista dei nodi non visitati\n",
    "F = lista_nodi\n",
    "\n",
    "\n",
    "'''\n",
    "    per quanto riguarda il pointer, ho utilizzato un dizionario, non credo di riuscire ad utilizzare una lista visto che i nodi\n",
    "    del grafo non partono da zero ed hanno ID molto grandi (a meno che non vada a rinominarli).\n",
    "    il pointer è del tipo {    nodo i    :    [indice del nodo i in tail, numero di archi uscenti da i]}\n",
    "'''\n",
    "pointer = {}\n",
    "\n",
    "\n",
    "for i in lista_nodi:\n",
    "    if i in tail:\n",
    "        pointer[i] = [indice(tail,i), tail.count(i)]\n",
    "    \n",
    "    # questo else mi serve per mettere nel pointer anche i nodi che non sono coda di nessun arco. Ponendo uguale a zero il\n",
    "    # secondo elemento dell'array non va a cercare la sua lista di adiacienza visto che è vuota\n",
    "    else:\n",
    "        pointer[i] = [0, 0]\n",
    "\n",
    "'''\n",
    "    le distanze le ho messe in un dizionario, questo perchè con un array non mi funzionava l'algoritmo. Ora ho capito cosa\n",
    "    non andava quindi provvederò ad utilizzare un array per un accesso più veloce ai dati.\n",
    "    lo stesso vale per il dizionario \"padre\" che memorizza il percorso.\n",
    "'''\n",
    "dist = {}\n",
    "padre = {}\n",
    "\n",
    "\n",
    "for i in pointer:\n",
    "    dist[i] = 999999\n",
    "    padre[i] = None\n",
    "    \n",
    "    \n",
    "print(pointer)\n",
    "print()\n",
    "print(dist)\n",
    "print()\n",
    "print(padre)"
   ]
  },
  {
   "cell_type": "code",
   "execution_count": 19,
   "metadata": {},
   "outputs": [],
   "source": [
    "'''\n",
    "    L'algortimo Dijkstra source-target che restituisce il cammino minimo ed il costo.\n",
    "    \n",
    "    Credo di aver utilizzato correttamente la struttura dati forward star, però mi fa strano che c'è un po' di confusione\n",
    "    all'interno del ciclo for. Ad ogni modo funziona.\n",
    "    \n",
    "'''\n",
    "\n",
    "def dijkstra(tail, head, cost, pointer, start, goal):\n",
    "    dist[start] = 0\n",
    "    \n",
    "    while goal in F:\n",
    "                \n",
    "        current = nodo_con_costo_minore(dist, F)\n",
    "        V.append(current)\n",
    "        F.remove(current)\n",
    "        \n",
    "        for i in range(pointer[current][1]):\n",
    "            if cost[pointer[current][0]+i] + dist[current] < dist[head[pointer[current][0]+i]]:\n",
    "                dist[head[pointer[current][0]+i]] = cost[pointer[current][0]+i] + dist[current]\n",
    "                padre[head[pointer[current][0]+i]] = current\n",
    "                \n",
    "    print('la distanza tra ' + str(start) + ' e '+ str(goal) + ' è di ' + str(dist[goal]))\n",
    "\n",
    "    #funzione che mi costruisce il percorso dal dizionario \"padre\"\n",
    "    parent = [goal]\n",
    "    num = 0\n",
    "    while start not in parent:\n",
    "        parent.append(padre[parent[num]])\n",
    "        num = num + 1\n",
    "    result = parent[::-1]\n",
    "    print(result)\n",
    "    \n",
    "    #plotta mappa e soluzione\n",
    "    fig, ax = ox.plot_graph_route(G, result)"
   ]
  },
  {
   "cell_type": "code",
   "execution_count": 27,
   "metadata": {},
   "outputs": [
    {
     "name": "stdout",
     "output_type": "stream",
     "text": [
      "la distanza tra 42464995 e 42516282 è di 490.917\n",
      "[42464995, 42499215, 42499213, 42499211, 42516282]\n"
     ]
    },
    {
     "data": {
      "image/png": "[encoded data removed]",
      "text/plain": [
       "<Figure size 437.129x432 with 1 Axes>"
      ]
     },
     "metadata": {},
     "output_type": "display_data"
    }
   ],
   "source": [
    "dijkstra(tail, head, cost, pointer, 42464995, 42516282)"
   ]
  },
  {
   "cell_type": "code",
   "execution_count": null,
   "metadata": {},
   "outputs": [],
   "source": []
  }
 ],
 "metadata": {
  "kernelspec": {
   "display_name": "Python 3",
   "language": "python",
   "name": "python3"
  },
  "language_info": {
   "codemirror_mode": {
    "name": "ipython",
    "version": 3
   },
   "file_extension": ".py",
   "mimetype": "text/x-python",
   "name": "python",
   "nbconvert_exporter": "python",
   "pygments_lexer": "ipython3",
   "version": "3.7.3"
  }
 },
 "nbformat": 4,
 "nbformat_minor": 2
}
