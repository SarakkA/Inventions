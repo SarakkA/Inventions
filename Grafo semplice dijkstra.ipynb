{
 "cells": [
  {
   "cell_type": "code",
   "execution_count": 13,
   "metadata": {},
   "outputs": [
    {
     "name": "stdout",
     "output_type": "stream",
     "text": [
      "{0: [(1, 2), (2, 5)], 1: [(2, 2), (3, 6)], 2: [(3, 2)], 3: []}\n",
      "{0: 999999, 1: 999999, 2: 999999, 3: 999999}\n",
      "{0: None, 1: None, 2: None, 3: None}\n"
     ]
    }
   ],
   "source": [
    "graph = {}\n",
    "graph[0]=[(1, 2), (2, 5)]\n",
    "\n",
    "graph[1]=[(2, 2),(3, 6)]\n",
    "\n",
    "graph[2]=[(3, 2)]\n",
    "graph[3]=[]\n",
    "print(graph)\n",
    "\n",
    "V = []\n",
    "F = [0, 1, 2, 3]\n",
    "\n",
    "distance = {}\n",
    "distance[0] = 999999\n",
    "distance[1] = 999999\n",
    "distance[2] = 999999\n",
    "distance[3] = 999999\n",
    "\n",
    "print(distance)\n",
    "\n",
    "\n",
    "padre = {}\n",
    "padre[0]= None\n",
    "padre[1]= None\n",
    "padre[2]= None\n",
    "padre[3]= None\n",
    "print(padre)"
   ]
  },
  {
   "cell_type": "code",
   "execution_count": 4,
   "metadata": {},
   "outputs": [],
   "source": [
    "#funzione che restituisce il nodo  di distanza minima (dall'array F dei nodi non visitati)\n",
    "\n",
    "def nodo_con_costo_minore(dict, F):\n",
    "    costo_minimo = 9999999999999\n",
    "    nodo_con_costo_minimo = None\n",
    "    \n",
    "    for i in dict:\n",
    "        if dict[i] < costo_minimo and i in F:\n",
    "            costo_minimo = dict[i]\n",
    "            nodo_con_costo_minimo = i\n",
    "    return nodo_con_costo_minimo"
   ]
  },
  {
   "cell_type": "code",
   "execution_count": 6,
   "metadata": {},
   "outputs": [],
   "source": [
    "def dijkstra(graph, source, target):\n",
    "    distance[source] = 0\n",
    "    visited = []\n",
    "    not_visited = [0, 1, 2, 3]\n",
    "    while target not in visited:\n",
    "        current_node = nodo_con_costo_minore(distance, not_visited)\n",
    "        visited.append(current_node)\n",
    "        not_visited.remove(current_node)\n",
    "        \n",
    "        #visita degli adiacenti di current_node ed eventuale aggiornamento delle distanze se viene trovato un cammino più breve\n",
    "        for neighbor, cost in graph[current_node]:\n",
    "            if distance[current_node] + cost < distance[neighbor]:\n",
    "                distance[neighbor]= distance[current_node] + cost\n",
    "                padre[neighbor]= current_node\n",
    "\n",
    "    print(\"dizionario delle distanze: \" + str(distance))\n",
    "    print(\"array dei nodi visitati: \" + str(visited))\n",
    "    print(\"dizionario per ricostruire il cammino: \" + str(padre))\n",
    "    \n",
    "    parent = [target]\n",
    "    num = 0\n",
    "    while source not in parent:\n",
    "        parent.append(padre[parent[num]])\n",
    "        num = num + 1\n",
    "    result = parent[::-1]\n",
    "    print(\"cammino: \" + str(result))\n"
   ]
  },
  {
   "cell_type": "code",
   "execution_count": 10,
   "metadata": {},
   "outputs": [
    {
     "name": "stdout",
     "output_type": "stream",
     "text": [
      "dizionario delle distanze: {0: 0, 1: 2, 2: 4, 3: 6}\n",
      "array dei nodi visitati: [0, 1, 2, 3]\n",
      "dizionario per ricostruire il cammino: {0: None, 1: 0, 2: 1, 3: 2}\n",
      "cammino: [0, 1, 2, 3]\n"
     ]
    }
   ],
   "source": [
    "dijkstra(graph, 0, 3)"
   ]
  },
  {
   "cell_type": "code",
   "execution_count": 12,
   "metadata": {},
   "outputs": [
    {
     "name": "stdout",
     "output_type": "stream",
     "text": [
      "dizionario delle distanze: {0: 999999, 1: 0, 2: 2, 3: 4}\n",
      "array dei nodi visitati: [1, 2, 3]\n",
      "dizionario per ricostruire il cammino: {0: None, 1: None, 2: 1, 3: 2}\n",
      "cammino: [1, 2, 3]\n"
     ]
    }
   ],
   "source": [
    "dijkstra(graph, 1, 3)"
   ]
  },
  {
   "cell_type": "code",
   "execution_count": 14,
   "metadata": {},
   "outputs": [
    {
     "name": "stdout",
     "output_type": "stream",
     "text": [
      "dizionario delle distanze: {0: 999999, 1: 999999, 2: 0, 3: 2}\n",
      "array dei nodi visitati: [2, 3, 0, 1]\n",
      "dizionario per ricostruire il cammino: {0: None, 1: None, 2: None, 3: 2}\n"
     ]
    },
    {
     "ename": "KeyError",
     "evalue": "None",
     "output_type": "error",
     "traceback": [
      "\u001b[1;31m---------------------------------------------------------------------------\u001b[0m",
      "\u001b[1;31mKeyError\u001b[0m                                  Traceback (most recent call last)",
      "\u001b[1;32m<ipython-input-14-77ca3033ddb4>\u001b[0m in \u001b[0;36m<module>\u001b[1;34m\u001b[0m\n\u001b[1;32m----> 1\u001b[1;33m \u001b[0mdijkstra\u001b[0m\u001b[1;33m(\u001b[0m\u001b[0mgraph\u001b[0m\u001b[1;33m,\u001b[0m \u001b[1;36m2\u001b[0m\u001b[1;33m,\u001b[0m \u001b[1;36m1\u001b[0m\u001b[1;33m)\u001b[0m\u001b[1;33m\u001b[0m\u001b[1;33m\u001b[0m\u001b[0m\n\u001b[0m",
      "\u001b[1;32m<ipython-input-6-04f4a4a13bef>\u001b[0m in \u001b[0;36mdijkstra\u001b[1;34m(graph, source, target)\u001b[0m\n\u001b[0;32m     19\u001b[0m     \u001b[0mnum\u001b[0m \u001b[1;33m=\u001b[0m \u001b[1;36m0\u001b[0m\u001b[1;33m\u001b[0m\u001b[1;33m\u001b[0m\u001b[0m\n\u001b[0;32m     20\u001b[0m     \u001b[1;32mwhile\u001b[0m \u001b[0msource\u001b[0m \u001b[1;32mnot\u001b[0m \u001b[1;32min\u001b[0m \u001b[0mparent\u001b[0m\u001b[1;33m:\u001b[0m\u001b[1;33m\u001b[0m\u001b[1;33m\u001b[0m\u001b[0m\n\u001b[1;32m---> 21\u001b[1;33m         \u001b[0mparent\u001b[0m\u001b[1;33m.\u001b[0m\u001b[0mappend\u001b[0m\u001b[1;33m(\u001b[0m\u001b[0mpadre\u001b[0m\u001b[1;33m[\u001b[0m\u001b[0mparent\u001b[0m\u001b[1;33m[\u001b[0m\u001b[0mnum\u001b[0m\u001b[1;33m]\u001b[0m\u001b[1;33m]\u001b[0m\u001b[1;33m)\u001b[0m\u001b[1;33m\u001b[0m\u001b[1;33m\u001b[0m\u001b[0m\n\u001b[0m\u001b[0;32m     22\u001b[0m         \u001b[0mnum\u001b[0m \u001b[1;33m=\u001b[0m \u001b[0mnum\u001b[0m \u001b[1;33m+\u001b[0m \u001b[1;36m1\u001b[0m\u001b[1;33m\u001b[0m\u001b[1;33m\u001b[0m\u001b[0m\n\u001b[0;32m     23\u001b[0m     \u001b[0mresult\u001b[0m \u001b[1;33m=\u001b[0m \u001b[0mparent\u001b[0m\u001b[1;33m[\u001b[0m\u001b[1;33m:\u001b[0m\u001b[1;33m:\u001b[0m\u001b[1;33m-\u001b[0m\u001b[1;36m1\u001b[0m\u001b[1;33m]\u001b[0m\u001b[1;33m\u001b[0m\u001b[1;33m\u001b[0m\u001b[0m\n",
      "\u001b[1;31mKeyError\u001b[0m: None"
     ]
    }
   ],
   "source": [
    "dijkstra(graph, 2, 1)"
   ]
  },
  {
   "cell_type": "code",
   "execution_count": null,
   "metadata": {},
   "outputs": [],
   "source": []
  }
 ],
 "metadata": {
  "kernelspec": {
   "display_name": "Python 3",
   "language": "python",
   "name": "python3"
  },
  "language_info": {
   "codemirror_mode": {
    "name": "ipython",
    "version": 3
   },
   "file_extension": ".py",
   "mimetype": "text/x-python",
   "name": "python",
   "nbconvert_exporter": "python",
   "pygments_lexer": "ipython3",
   "version": "3.7.3"
  }
 },
 "nbformat": 4,
 "nbformat_minor": 2
}
